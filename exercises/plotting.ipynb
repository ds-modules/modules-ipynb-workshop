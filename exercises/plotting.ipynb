{
 "cells": [
  {
   "cell_type": "markdown",
   "metadata": {},
   "source": [
    "# Berkeley Data Science Modules: Advanced Plotting\n",
    "<img src=\"https://jupyter.org/assets/main-logo.svg\" style=\"width: 500px; height: 350px;\"/>\n",
    "\n",
    "\n",
    "### Table of Contents\n",
    "1.  <a href='#section 1'>Seaborn</a>\n",
    "2. <a href='#section 2'>Bokeh</a>\n",
    "\n"
   ]
  },
  {
   "cell_type": "code",
   "execution_count": null,
   "metadata": {
    "scrolled": true
   },
   "outputs": [],
   "source": [
    "# dependencies: THIS CELL MUST BE RUN\n",
    "!pip install --upgrade numpy -q\n",
    "!pip install --upgrade bokeh -q\n",
    "\n",
    "from datascience import *\n",
    "import numpy as np\n",
    "import math\n",
    "import matplotlib.pyplot as plt\n",
    "import seaborn as sns\n",
    "import bokeh\n",
    "plt.style.use('fivethirtyeight')\n",
    "import ipywidgets as widgets\n",
    "%matplotlib inline"
   ]
  },
  {
   "cell_type": "markdown",
   "metadata": {},
   "source": [
    "The `matplotlib` library has been used extensively for plotting in modules over the last few semesters. It is the most commonly used plotting library, and is used in a variety of academic classes as well. However, the library (while powerful), still comes with a variety of issues that potentially make it more appealing to use another plotting library.\n",
    "\n",
    "Examples of these issues include:\n",
    "\n",
    "1. Confusing/out-of-date documentation\n",
    "2. Unneccessarily complicated code for simple figure modifications\n",
    "3. Difficulty in making advanced plots\n",
    "4. Lack of freedom with figure modification and odd default settings\n",
    "5. Suboptimal integration with pandas DataFrames\n",
    "\n",
    "These issues make matplotlib less enticing to use, especially in an educational setting (where clarity, ease of use, and documentation matters a lot).\n",
    "\n",
    "We will provide some basic examples of two alternate visualization libraries (`seaborn` and `bokeh`), which solve several of the issues outlined above.\n",
    "\n",
    "Note that this is meant to provide you with some basic exposure to the libraries. The full functionalities are much more extensive than what we will be covering today, and we invite you to spend some time working with the libraries and reading through documentation on your own to learn the true power of what you can do. We can also answer any questions you may have."
   ]
  },
  {
   "cell_type": "markdown",
   "metadata": {},
   "source": [
    "## 1. Seaborn - an extension of Matplotlib <a id='section 1'></a>\n",
    "\n",
    "The `seaborn` library provides a high-level API on top of the base `matplotlib` functionality. While `matplotlib` provides ease of use for basic plot types (scatter, line, pie, etc.), `seaborn` allows you to easily create more advanced plots for statistical visualization. Additionally, its defaults (color, sizing, etc.) are generally more aesthetically appealing. We will go through some examples below using some in-built seaborn datasets. (The code examples have been adapted from the blog post linked in Reference 1). \n",
    "\n",
    "We'll first work with the in-built `tips` dataset in `seaborn`."
   ]
  },
  {
   "cell_type": "code",
   "execution_count": null,
   "metadata": {
    "scrolled": true
   },
   "outputs": [],
   "source": [
    "sns.set()\n",
    "tips = sns.load_dataset(\"tips\")\n",
    "tips.head()"
   ]
  },
  {
   "cell_type": "code",
   "execution_count": null,
   "metadata": {
    "scrolled": true
   },
   "outputs": [],
   "source": []
  },
  {
   "cell_type": "markdown",
   "metadata": {},
   "source": [
    "Let's start by generating a couple of basic plots to compare with `matplotlib`. Note the ease of use in this visualization as compared to a similar one in `matplotlib`. We will first look at a side-by-side scatter plot, and then a side-by-side lineplot with linear regression."
   ]
  },
  {
   "cell_type": "code",
   "execution_count": null,
   "metadata": {
    "scrolled": true
   },
   "outputs": [],
   "source": [
    "sns.relplot(x=\"total_bill\", y=\"tip\", \n",
    "            col=\"time\", # Categorical variables that will determine the faceting of the grid.\n",
    "            hue=\"smoker\", # Grouping variable that will produce elements with different colors.\n",
    "            style=\"smoker\", # Grouping variable that will produce elements with different styles.\n",
    "            size=\"size\", # Grouping variable that will produce elements with different sizes.\n",
    "            data=tips);"
   ]
  },
  {
   "cell_type": "code",
   "execution_count": null,
   "metadata": {
    "scrolled": true
   },
   "outputs": [],
   "source": [
    "sns.lmplot(x=\"total_bill\", y=\"tip\", \n",
    "           col=\"time\", # Categorical variables that will determine the faceting of the grid.\n",
    "           hue=\"smoker\", # Grouping variable that will produce elements with different colors.\n",
    "           data=tips);"
   ]
  },
  {
   "cell_type": "markdown",
   "metadata": {},
   "source": [
    "The true strength of `seaborn` comes in its ability to create advanced plots for statistical visualization that are very difficult to create effectively in `matplotlib`. We will showcase several examples of easy advanced plots for visualization of categorical variables. "
   ]
  },
  {
   "cell_type": "code",
   "execution_count": null,
   "metadata": {
    "scrolled": true
   },
   "outputs": [],
   "source": [
    "sns.catplot(x=\"day\", y=\"total_bill\", \n",
    "            hue=\"smoker\", # Grouping variable that will produce elements with different colors.\n",
    "            kind=\"swarm\", # Options are: \"point\", \"bar\", \"strip\", \"swarm\", \"box\", \"violin\", or \"boxen\"\n",
    "            data=tips);"
   ]
  },
  {
   "cell_type": "markdown",
   "metadata": {},
   "source": [
    "Let's change the `kind` parameter to see a few more examples of different plots. Note how easy it is!"
   ]
  },
  {
   "cell_type": "code",
   "execution_count": null,
   "metadata": {
    "scrolled": true
   },
   "outputs": [],
   "source": [
    "sns.catplot(x=\"day\", y=\"total_bill\", \n",
    "            hue=\"smoker\", # Grouping variable that will produce elements with different colors.\n",
    "            kind=\"bar\", # Options are: \"point\", \"bar\", \"strip\", \"swarm\", \"box\", \"violin\", or \"boxen\"\n",
    "            data=tips);"
   ]
  },
  {
   "cell_type": "code",
   "execution_count": null,
   "metadata": {
    "scrolled": true
   },
   "outputs": [],
   "source": [
    "sns.catplot(x=\"day\", y=\"total_bill\", \n",
    "            hue=\"smoker\", # Grouping variable that will produce elements with different colors.\n",
    "            kind=\"violin\", # Options are: \"point\", \"bar\", \"strip\", \"swarm\", \"box\", \"violin\", or \"boxen\"\n",
    "            split='True',\n",
    "            data=tips);\n",
    "\n",
    "plt.xlabel(\"day of week\");"
   ]
  },
  {
   "cell_type": "markdown",
   "metadata": {},
   "source": [
    "As you can see from the above examples, `seaborn` is able to solve several of the issues that we mentioned above about `matplotlib` while at the same time offering functionality for plots that are extremely difficult to create with native `matplotlib`. More specifically, in the examples we saw, we avoided the following problems from above:\n",
    "\n",
    "1. Unneccessarily complicated code for simple figure modifications\n",
    "2. Difficulty in making advanced plots\n",
    "3. Suboptimal integration with pandas DataFrames\n",
    "\n",
    "Note that `seaborn` itself has a vast array of functionality much beyond what was outlined here. This was meant to be a quick demo that got you interested in the power of the library. Feel free to explore on your own to create some awesome visualizations!\n"
   ]
  },
  {
   "cell_type": "markdown",
   "metadata": {},
   "source": [
    "## 2. Bokeh - a more functional, interactive version of Matplotlib <a id='section 2'></a>\n",
    "\n"
   ]
  },
  {
   "cell_type": "markdown",
   "metadata": {},
   "source": [
    "From the Bokeh documentation: \"Bokeh is an interactive visualization library that targets modern web browsers for presentation. Bokeh provides elegant, concise construction of versatile graphics with high-performance interactivity over very large or streaming datasets in a quick and easy way from Python (or other languages)\"\n",
    "\n",
    "Some key takeaways of features that make Bokeh great:\n",
    "\n",
    "1. Interactive and advanced visualizations\n",
    "2. Presentation and demonstration\n",
    "3. Large datasets\n",
    "\n",
    "We will first outline a few basic plots using Bokeh to showcase the highly interactive nature of the plots as well as the beautiful, presentable nature of the visualizations. (These examples have been adapted from the Bokeh quick start guide linked in Reference 2)."
   ]
  },
  {
   "cell_type": "code",
   "execution_count": null,
   "metadata": {
    "scrolled": true
   },
   "outputs": [],
   "source": [
    "from bokeh.plotting import *\n",
    "from bokeh.io import output_notebook\n",
    "\n",
    "output_notebook()"
   ]
  },
  {
   "cell_type": "code",
   "execution_count": null,
   "metadata": {
    "scrolled": false
   },
   "outputs": [],
   "source": [
    "x = [1, 2, 3, 4, 5]\n",
    "y = [6, 7, 2, 4, 5]\n",
    "\n",
    "p = figure(title=\"Line plot example\", x_axis_label='x', y_axis_label='y')\n",
    "\n",
    "p.line(x, y, legend_label=\"Temp.\", line_width=2)\n",
    "\n",
    "show(p)"
   ]
  },
  {
   "cell_type": "markdown",
   "metadata": {},
   "source": [
    "As you can see, Bokeh plots are extremely interactive, and give you a lot of freedom with visualizing different statistical associations in data. The tools from the previous example are only a subset of all possible tools. In the example, below, we specify what tools we want (the full list outlined in the documentation). We chose to include the box and lasso select tools this time to compare between the two graphs."
   ]
  },
  {
   "cell_type": "code",
   "execution_count": null,
   "metadata": {
    "scrolled": false
   },
   "outputs": [],
   "source": [
    "from bokeh.models import ColumnDataSource\n",
    "\n",
    "# prepare some date\n",
    "N = 300\n",
    "x = np.linspace(0, 4*np.pi, N)\n",
    "y0 = np.sin(x)\n",
    "y1 = np.cos(x)\n",
    "\n",
    "# NEW: create a column data source for the plots to share\n",
    "source = ColumnDataSource(data=dict(x=x, y0=y0, y1=y1))\n",
    "\n",
    "TOOLS = \"pan,wheel_zoom,box_zoom,reset,save,box_select,lasso_select\"\n",
    "\n",
    "# create a new plot and add a renderer\n",
    "left = figure(tools=TOOLS, width=350, height=350, title=None)\n",
    "left.circle('x', 'y0', source=source)\n",
    "\n",
    "# create another new plot and add a renderer\n",
    "right = figure(tools=TOOLS, width=350, height=350, title=None)\n",
    "right.circle('x', 'y1', source=source)\n",
    "\n",
    "# put the subplots in a gridplot\n",
    "p = gridplot([[left, right]])\n",
    "\n",
    "# show the results\n",
    "show(p)"
   ]
  },
  {
   "cell_type": "markdown",
   "metadata": {},
   "source": [
    "The Bokeh documentation is extensive, and provides very detailed information on all types of plots and visualizations. "
   ]
  },
  {
   "cell_type": "markdown",
   "metadata": {},
   "source": [
    "Additionally, Bokeh has a incredible gallery of beautiful visualizations on its documentation page at this link: https://bokeh.pydata.org/en/latest/docs/gallery.html\n",
    "\n",
    "This gallery shows off how robust the library, and what it is capable of. \n",
    "\n",
    "Feel free to check out the demos and the respective code to understand the true power of the library! Just as before with `seaborn`, `bokeh` itself has a vast array of functionality much beyond what was outlined here. This was meant to be a quick demo that got you interested in the use cases and power of the library.\n",
    "\n",
    "Here are a few examples from the gallery to pique your interest further :) (Linked in Reference 3)."
   ]
  },
  {
   "cell_type": "code",
   "execution_count": null,
   "metadata": {
    "scrolled": true
   },
   "outputs": [],
   "source": [
    "import vis\n",
    "bokeh.sampledata.download() "
   ]
  },
  {
   "cell_type": "code",
   "execution_count": null,
   "metadata": {
    "scrolled": false
   },
   "outputs": [],
   "source": [
    "vis.gen_mis()"
   ]
  },
  {
   "cell_type": "code",
   "execution_count": null,
   "metadata": {
    "scrolled": false
   },
   "outputs": [],
   "source": [
    "vis.gen_hex()"
   ]
  },
  {
   "cell_type": "markdown",
   "metadata": {},
   "source": [
    "As you see, Bokeh gives you immense visualization power, while at the same time providing interactivity. Explore the gallery and documentation further to learn more about how to create your own great visualizations!"
   ]
  },
  {
   "cell_type": "markdown",
   "metadata": {},
   "source": [
    "#### References\n",
    "\n",
    "1. https://towardsdatascience.com/matplotlib-seaborn-basics-2bd7b66dbee2\n",
    "2. https://bokeh.pydata.org/en/latest/docs/user_guide/quickstart.html\n",
    "3. https://bokeh.pydata.org/en/latest/docs/gallery.html"
   ]
  },
  {
   "cell_type": "markdown",
   "metadata": {},
   "source": [
    "Author: Aditya Sheth"
   ]
  }
 ],
 "metadata": {
  "kernelspec": {
   "display_name": "Python 3",
   "language": "python",
   "name": "python3"
  },
  "language_info": {
   "codemirror_mode": {
    "name": "ipython",
    "version": 3
   },
   "file_extension": ".py",
   "mimetype": "text/x-python",
   "name": "python",
   "nbconvert_exporter": "python",
   "pygments_lexer": "ipython3",
   "version": "3.8.6"
  }
 },
 "nbformat": 4,
 "nbformat_minor": 2
}
